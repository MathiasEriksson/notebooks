{
 "cells": [
  {
   "cell_type": "markdown",
   "metadata": {},
   "source": [
    "# Pandas and matplotlib exercise with open data from Helen \n",
    "### 12.4.2022"
   ]
  },
  {
   "cell_type": "markdown",
   "metadata": {},
   "source": [
    "In this exercise we will make a plot similar to the one found on https://www.helen.fi/helen-oy/vastuullisuus/ajankohtaista/avoindata . We will also calculate and visualize some yearly summary data. The aim of this exercise notbook is to practice parsing and manipulating csv:s with pandas and visualize data with matplotlib. Feel free to add cells and playaround with the variables to get a better understanding."
   ]
  },
  {
   "cell_type": "markdown",
   "metadata": {},
   "source": [
    "First import necessary packages:"
   ]
  },
  {
   "cell_type": "code",
   "execution_count": null,
   "metadata": {},
   "outputs": [],
   "source": [
    "import pandas as pd\n",
    "import matplotlib.pyplot as plt\n",
    "import numpy as np"
   ]
  },
  {
   "cell_type": "markdown",
   "metadata": {},
   "source": [
    "Go to https://www.helen.fi/helen-oy/vastuullisuus/ajankohtaista/avoindata and copy the url for the csv.\n",
    "The cell below is provided as reference but will not produce the required dataframe. It is provided as reference."
   ]
  },
  {
   "cell_type": "code",
   "execution_count": null,
   "metadata": {},
   "outputs": [],
   "source": [
    "url = ???\n",
    "storage_options = {'User-Agent': 'Mozilla/5.0'}\n",
    "df = pd.read_csv(url,storage_options=storage_options)\n",
    "df.head()"
   ]
  },
  {
   "cell_type": "markdown",
   "metadata": {},
   "source": [
    "The first attempt at parsing the CSV resulted in an error. So more parameters are required to successfully read the CSV, this is typical. The cell below is provided as help, it makes a request and reads the raw data and prints the first 5 rows in binary format. From this one can deduce the required parameters. Opening the csv in Excel can also help to figure out the correct format."
   ]
  },
  {
   "cell_type": "code",
   "execution_count": null,
   "metadata": {},
   "outputs": [],
   "source": [
    "from urllib.request import Request, urlopen\n",
    "\n",
    "req = Request(url)\n",
    "req.add_header('User-Agent', 'Mozilla/5.0 (X11; Ubuntu; Linux x86_64; rv:77.0) Gecko/20100101 Firefox/77.0')\n",
    "content = urlopen(req)\n",
    "\n",
    "data = content.readlines()\n",
    "for line in data[0:5]:\n",
    "    print(line)"
   ]
  },
  {
   "cell_type": "markdown",
   "metadata": {},
   "source": [
    "The '\\xef\\xbb\\xbf is a binary tag (https://www.knownhost.com/kb/htaccess-invalid-command-xefxbbxbf/) and can be ignored. \n",
    "\n",
    "Some useful documentation:\n",
    "- https://pandas.pydata.org/docs/reference/api/pandas.read_csv.html\n",
    "- https://towardsdatascience.com/basic-time-series-manipulation-with-pandas-4432afee64ea\n",
    "- https://pandas.pydata.org/docs/user_guide/timeseries.html\n",
    "\n",
    "Pandas has many useful methods for working with timedata."
   ]
  },
  {
   "cell_type": "code",
   "execution_count": null,
   "metadata": {},
   "outputs": [],
   "source": [
    "pd.to_datetime('2.1.2015 1:00')"
   ]
  },
  {
   "cell_type": "markdown",
   "metadata": {},
   "source": [
    "Fill in the right parameters:"
   ]
  },
  {
   "cell_type": "code",
   "execution_count": null,
   "metadata": {},
   "outputs": [],
   "source": [
    "df = pd.read_csv(url,\n",
    "            storage_options = storage_options,\n",
    "            delimiter=???,\n",
    "            header=???,\n",
    "            decimal=???,\n",
    "            parse_dates=???,\n",
    "            index_col= ???,\n",
    "            dayfirst=???\n",
    "        )\n",
    "\n",
    "df.head()"
   ]
  },
  {
   "cell_type": "markdown",
   "metadata": {},
   "source": [
    "Run the tests below to check that your dataframe is (probably) in the correct format."
   ]
  },
  {
   "cell_type": "code",
   "execution_count": null,
   "metadata": {},
   "outputs": [],
   "source": [
    "assert isinstance(df.index, pd.DatetimeIndex), \"The dataframe named df should have a DatetimeIndex\"\n",
    "assert df.isna().sum().item() == 0, \"There should not have any NA values in the dataframe\"\n",
    "assert df.dtypes.item() == np.float64, \"The dataframe should contain float64's\"\n",
    "assert df.size == 52607, \"The dataframe is of wrong size\"\n",
    "assert df.iloc[df.index == \"2015-2-1 01:00:00\",0].item() == 1052.6, \"The dataframe was parsed with the datetimes in the wrong convention, American vs European\"\n",
    "print(\"Passed tests ! :)\")"
   ]
  },
  {
   "cell_type": "markdown",
   "metadata": {},
   "source": [
    "If the dataframe is correct the cell below should produce a graph similar to the one seen on: https://www.helen.fi/helen-oy/vastuullisuus/ajankohtaista/avoindata ."
   ]
  },
  {
   "cell_type": "code",
   "execution_count": null,
   "metadata": {},
   "outputs": [],
   "source": [
    "# Set figure size\n",
    "f, ax = plt.subplots(1, 1, figsize = (15, 5))\n",
    "\n",
    "# Plot lineplot\n",
    "plt.plot(df[\"dh_MWh\"])\n",
    "# Add title and labels\n",
    "plt.title(\"Helsinki district heating effect\")\n",
    "plt.xlabel(\"Date\")\n",
    "plt.ylabel(\"MWh\")\n",
    "# fill space between x-axis and lineplot\n",
    "plt.fill_between(df.index, 0, df[\"dh_MWh\"], facecolor='indigo', alpha=0.7)\n",
    "\n",
    "#\n",
    "\n",
    "plt.show()"
   ]
  },
  {
   "cell_type": "markdown",
   "metadata": {},
   "source": [
    "Next we are going to calculate some summary statistics (mean, min, max, std) for each complete year, i.e. 2015-2020. First downsample the timeseries and then aggregate the timeseries (think groupby year) with each respective function."
   ]
  },
  {
   "cell_type": "code",
   "execution_count": null,
   "metadata": {},
   "outputs": [],
   "source": [
    "# Downsample the timeseries and calculate statistics\n",
    "\n",
    "yearly_means = ???\n",
    "yearly_mins = ???\n",
    "yearly_maxes = ???\n",
    "yearly_stds = ???\n"
   ]
  },
  {
   "cell_type": "markdown",
   "metadata": {},
   "source": [
    "Run the cell below to test your calculations"
   ]
  },
  {
   "cell_type": "code",
   "execution_count": null,
   "metadata": {},
   "outputs": [],
   "source": [
    "assert yearly_means.sum().item()//1 == 4663.0, \"The means are not correct\"\n",
    "assert yearly_mins.sum().item()//1 == 1005.0, \"The min values are not correct\"\n",
    "assert yearly_maxes.sum().item()//1 == 13252.0, \"The max values are not correct\"\n",
    "assert (yearly_stds.sum().item())//1 == 2565.0, \"The standard deviations are not correct\"\n",
    "print(\"Passed tests ! :)\")"
   ]
  },
  {
   "cell_type": "markdown",
   "metadata": {},
   "source": [
    "We can next visualize the results with a stacked errorbar plot"
   ]
  },
  {
   "cell_type": "code",
   "execution_count": null,
   "metadata": {},
   "outputs": [],
   "source": [
    "\n",
    "# Create stacked errorbars:\n",
    "\n",
    "# Set figure size\n",
    "f, ax = plt.subplots(1, 1, figsize = (10, 7))\n",
    "\n",
    "\n",
    "# Mean and standard deviation\n",
    "plt.errorbar(yearly_means.index,\n",
    "    yearly_means[\"dh_MWh\"],\n",
    "    yearly_stds[\"dh_MWh\"],\n",
    "    fmt='ok',\n",
    "    lw=3)\n",
    "\n",
    "# Mean and standard deviation\n",
    "plt.errorbar(yearly_means.index,\n",
    "    yearly_means[\"dh_MWh\"],\n",
    "    [yearly_means[\"dh_MWh\"] - yearly_mins[\"dh_MWh\"], yearly_maxes[\"dh_MWh\"] - yearly_means[\"dh_MWh\"]],\n",
    "    fmt='.k',\n",
    "    ecolor='gray',\n",
    "    lw=1)\n",
    "\n",
    "\n",
    "# Add title and labels\n",
    "plt.title(\"Yearly Helsinki district heating effect\")\n",
    "plt.xlabel(\"Date\")\n",
    "plt.ylabel(\"MWh\")\n",
    "\n",
    "# Add grid\n",
    "ax.grid(axis='y')\n",
    "\n",
    "plt.show()"
   ]
  },
  {
   "cell_type": "markdown",
   "metadata": {},
   "source": [
    "Finally plot a 2x3 grid of histograms, each cell containing a histogram of that years heating usage to showcase the variation year on year.\n",
    "Some usefull resources:\n",
    "- https://matplotlib.org/3.5.0/gallery/statistics/hist.html\n",
    "- https://matplotlib.org/stable/gallery/statistics/histogram_multihist.html#sphx-glr-gallery-statistics-histogram-multihist-py\n",
    "- https://stackoverflow.com/questions/20174468/how-to-create-subplots-of-pictures-made-with-the-hist-function-in-matplotlib-p"
   ]
  },
  {
   "cell_type": "code",
   "execution_count": null,
   "metadata": {},
   "outputs": [],
   "source": [
    "fig, axs = plt.subplots(2, 3, sharey=True, figsize = (15, 7))\n",
    "\n",
    "???\n",
    "\n",
    "plt.show()\n"
   ]
  }
 ],
 "metadata": {
  "interpreter": {
   "hash": "df955ce39d0f31d56d4bb2fe0a613e5326ba60723fd33d8303a3aede8f65715c"
  },
  "kernelspec": {
   "display_name": "Python 3.7.4 64-bit",
   "language": "python",
   "name": "python3"
  },
  "language_info": {
   "codemirror_mode": {
    "name": "ipython",
    "version": 3
   },
   "file_extension": ".py",
   "mimetype": "text/x-python",
   "name": "python",
   "nbconvert_exporter": "python",
   "pygments_lexer": "ipython3",
   "version": "3.7.4"
  },
  "orig_nbformat": 4
 },
 "nbformat": 4,
 "nbformat_minor": 2
}
